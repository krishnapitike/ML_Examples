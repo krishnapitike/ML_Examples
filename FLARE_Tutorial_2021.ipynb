{
  "nbformat": 4,
  "nbformat_minor": 0,
  "metadata": {
    "colab": {
      "name": "FLARE_Tutorial_2021.ipynb",
      "provenance": [],
      "collapsed_sections": [],
      "toc_visible": true
    },
    "kernelspec": {
      "name": "python3",
      "display_name": "Python 3"
    }
  },
  "cells": [
    {
      "cell_type": "markdown",
      "metadata": {
        "id": "o6rgl7KKzpf_"
      },
      "source": [
        "## Learning many-body force fields on the fly: A tutorial introduction to the FLARE++ code\n",
        "### Jonathan Vandermause (jonathan_vandermause@g.harvard.edu)"
      ]
    },
    {
      "cell_type": "markdown",
      "metadata": {
        "id": "lNkT9kMz0emD"
      },
      "source": [
        "<img src=\"https://github.com/mir-group/APS-2020-FLARE-Tutorial/blob/master/Tutorial_Images/intro.png?raw=true\" width=\"100%\">"
      ]
    },
    {
      "cell_type": "markdown",
      "metadata": {
        "id": "801c2raE2afB"
      },
      "source": [
        "**Learning objectives:**\n",
        "  * Train many-body sparse Gaussian process models on _ab initio_ force data using the [flare_pp](https://github.com/mir-group/flare_pp) code.\n",
        "  * Use the uncertainties of the sparse GP to train a force field on the fly using the [flare](https://github.com/mir-group/flare) code."
      ]
    },
    {
      "cell_type": "markdown",
      "metadata": {
        "id": "BWbpgFfvCvBH"
      },
      "source": [
        "## Installation"
      ]
    },
    {
      "cell_type": "markdown",
      "metadata": {
        "id": "wmoRy1P27zkm"
      },
      "source": [
        "Let's begin by installing the `flare` and `flare_pp` packages. This will take a few minutes in Colab, so make sure to run this block right away."
      ]
    },
    {
      "cell_type": "code",
      "metadata": {
        "id": "xiKPBUQKog6Y"
      },
      "source": [
        "# Install a working copy of lapack/lapacke.\n",
        "! pip uninstall -y mkl\n",
        "! sudo apt install liblapacke liblapacke-dev\n",
        "\n",
        "# Switch the Colab C++ compiler to g++-9.\n",
        "! sudo add-apt-repository -y ppa:ubuntu-toolchain-r/test\n",
        "! sudo apt update\n",
        "! sudo apt install gcc-9 g++-9\n",
        "! update-alternatives --install /usr/bin/gcc gcc /usr/bin/gcc-9 50\n",
        "! update-alternatives --install /usr/bin/g++ g++ /usr/bin/g++-9 50\n",
        "\n",
        "# Install flare_pp and flare.\n",
        "! pip install --upgrade flare_pp"
      ],
      "execution_count": null,
      "outputs": []
    },
    {
      "cell_type": "markdown",
      "metadata": {
        "id": "h19I-6Bx5Fgq"
      },
      "source": [
        "## Introduction"
      ]
    },
    {
      "cell_type": "markdown",
      "metadata": {
        "id": "IaxPD5H_zFpi"
      },
      "source": [
        "<img src=\"https://github.com/mir-group/APS-2020-FLARE-Tutorial/blob/master/Tutorial_Images/md_review.png?raw=true\" width=\"100%\">"
      ]
    },
    {
      "cell_type": "markdown",
      "metadata": {
        "id": "YqLNp63CzM8y"
      },
      "source": [
        "<img src=\"https://github.com/mir-group/APS-2020-FLARE-Tutorial/blob/master/Tutorial_Images/flare_overview.png?raw=true\" width=\"100%\">"
      ]
    },
    {
      "cell_type": "markdown",
      "metadata": {
        "id": "2ho-yvlPFZ5s"
      },
      "source": [
        "## Imports"
      ]
    },
    {
      "cell_type": "markdown",
      "metadata": {
        "id": "7QQLAhUCFZMt"
      },
      "source": [
        "We can now import everything we'll need for the tutorial."
      ]
    },
    {
      "cell_type": "code",
      "metadata": {
        "id": "UPetEWUi5QGN"
      },
      "source": [
        "# Import numpy and matplotlib\n",
        "import numpy as np\n",
        "from numpy.random import random\n",
        "import matplotlib.pyplot as plt\n",
        "import matplotlib\n",
        "\n",
        "# Increase the matplotlib font size.\n",
        "font = {'size': 22}\n",
        "\n",
        "matplotlib.rc('font', **font)\n",
        "\n",
        "# flare++ imports\n",
        "import flare_pp._C_flare as flare_pp\n",
        "from flare_pp.sparse_gp import SGP_Wrapper\n",
        "from flare_pp.sparse_gp_calculator import SGP_Calculator\n",
        "\n",
        "# flare imports\n",
        "from flare.ase.otf import ASE_OTF\n",
        "from flare import otf_parser\n",
        "\n",
        "# ASE imports\n",
        "from ase import Atoms, units\n",
        "from ase.calculators.eam import EAM\n",
        "from ase.build import supercells\n",
        "from ase.visualize import view\n",
        "from ase.md.velocitydistribution import MaxwellBoltzmannDistribution, \\\n",
        "    Stationary, ZeroRotation\n",
        "from ase.build import fcc111, add_adsorbate\n",
        "from ase.io import write"
      ],
      "execution_count": null,
      "outputs": []
    },
    {
      "cell_type": "markdown",
      "metadata": {
        "id": "1NQqcWuvOA9n"
      },
      "source": [
        "## Training a many-body force field on static data"
      ]
    },
    {
      "cell_type": "markdown",
      "metadata": {
        "id": "QWmnvEqXFiHz"
      },
      "source": [
        "Let's start by training a force field \"offline\" on an already existing dataset of _ab initio_ forces."
      ]
    },
    {
      "cell_type": "markdown",
      "metadata": {
        "id": "qjhvJmYaOFql"
      },
      "source": [
        "### Training data"
      ]
    },
    {
      "cell_type": "markdown",
      "metadata": {
        "id": "xliWsA6IF7ZP"
      },
      "source": [
        "To train our model we'll use the MD17 dataset introduced in Refs. [1-3], which contains energies and forces from _ab initio_ MD trajectories of eight small organic molecules.\n",
        "\n",
        "[[1] S. Chmiela, A. Tkatchenko, H. E. Sauceda, I. Poltavsky, K. T. Schütt, K.-R. Müller. Sci. Adv. 3(5), e1603015, 2017.](https://advances.sciencemag.org/content/3/5/e1603015)\n",
        "\n",
        "[[2] K. T. Schütt, F. Arbabzadah, S. Chmiela, K.-R. Müller, A. Tkatchenko. Nat. Commun. 8, 13890, 2017.](https://www.nature.com/articles/ncomms13890)\n",
        "\n",
        "[[3] S. Chmiela, H. E. Sauceda, K.-R. Müller, A. Tkatchenko. Nat. Commun. 9, 3887, 2018.](https://www.nature.com/articles/s41467-018-06169-2)"
      ]
    },
    {
      "cell_type": "code",
      "metadata": {
        "id": "8RgYhEGJOIHQ"
      },
      "source": [
        "# Download the data.\n",
        "! wget http://quantum-machine.org/gdml/data/npz/aspirin_dft.npz"
      ],
      "execution_count": null,
      "outputs": []
    },
    {
      "cell_type": "code",
      "metadata": {
        "id": "v7qY_Up1OMHF"
      },
      "source": [
        "# Load training data.\n",
        "data_file = \"aspirin_dft.npz\"\n",
        "data = np.load(data_file)\n",
        "n_strucs = len(data['E'])\n",
        "\n",
        "# Define species as ints starting from 0.\n",
        "species = data['z']\n",
        "species_code = {'6': 0, '8': 1, '1': 2}\n",
        "\n",
        "coded_species = []\n",
        "for spec in species:\n",
        "    coded_species.append(species_code[str(spec)])\n",
        "\n",
        "# Define positions, forces, and the unit cell.\n",
        "forces = data['F']  # kcal/mol/A\n",
        "positions = data['R']  # A\n",
        "cell = np.eye(3) * 100\n",
        "noa = len(species)"
      ],
      "execution_count": null,
      "outputs": []
    },
    {
      "cell_type": "code",
      "metadata": {
        "id": "jya7G_9o11sF"
      },
      "source": [
        "# Visualize an aspirin molecule.\n",
        "frame = 100000\n",
        "structure = Atoms(\n",
        "  positions=positions[frame],\n",
        "  numbers=species,\n",
        "  cell=cell\n",
        "  )\n",
        "view(structure, viewer='x3d')"
      ],
      "execution_count": null,
      "outputs": []
    },
    {
      "cell_type": "code",
      "metadata": {
        "id": "L9H5WlMWQDBc"
      },
      "source": [
        "# Choose training and validation structures.\n",
        "training_size = 100\n",
        "validation_size = 20\n",
        "np.random.seed(1)\n",
        "shuffled_frames = [int(n) for n in range(n_strucs)]\n",
        "np.random.shuffle(shuffled_frames)\n",
        "\n",
        "training_pts = shuffled_frames[0:training_size]\n",
        "validation_pts = shuffled_frames[training_size:training_size+validation_size]"
      ],
      "execution_count": null,
      "outputs": []
    },
    {
      "cell_type": "markdown",
      "metadata": {
        "id": "h0n3vxM6QGTu"
      },
      "source": [
        "### Training a many-body sparse GP model"
      ]
    },
    {
      "cell_type": "markdown",
      "metadata": {
        "id": "a6i4oXAWLGJu"
      },
      "source": [
        "We're now ready to train a sparse GP force field. Our approach follows the Gaussian Approximation Potential framework first introduced in Ref. [4] (see [5] for an excellent introduction), with a multi-element generalization of the Atomic Cluster Expansion [6] used to build rotationally-invariant many-body descriptors of local atomic environments.\n",
        "\n",
        "[[4] Bartók, A. P., Payne, M. C., Kondor, R., & Csányi, G. (2010). Physical review letters, 104(13), 136403.](https://journals.aps.org/prl/abstract/10.1103/PhysRevLett.104.136403)\n",
        "\n",
        "[[5] Bartók, A. P., & Csányi, G. (2015). International Journal of Quantum Chemistry, 115(16), 1051-1057.](https://onlinelibrary.wiley.com/doi/full/10.1002/qua.24927)\n",
        "\n",
        "[[6] Drautz, R. (2019). Physical Review B, 99(1), 014104.](https://journals.aps.org/prb/abstract/10.1103/PhysRevB.99.014104)\n"
      ]
    },
    {
      "cell_type": "markdown",
      "metadata": {
        "id": "18PgazwM5IWp"
      },
      "source": [
        "<img src=\"https://github.com/mir-group/APS-2020-FLARE-Tutorial/blob/master/Tutorial_Images/mb_models2.png?raw=true\" width=\"100%\">"
      ]
    },
    {
      "cell_type": "markdown",
      "metadata": {
        "id": "dblslsLx7YBz"
      },
      "source": [
        "<img src=\"https://github.com/mir-group/APS-2020-FLARE-Tutorial/blob/master/Tutorial_Images/mb_descriptors2.png?raw=true\" width=\"100%\">"
      ]
    },
    {
      "cell_type": "markdown",
      "metadata": {
        "id": "M_uH-EXw5HGa"
      },
      "source": [
        "<img src=\"https://github.com/mir-group/APS-2020-FLARE-Tutorial/blob/master/Tutorial_Images/gpff2.png?raw=true\" width=\"100%\">"
      ]
    },
    {
      "cell_type": "markdown",
      "metadata": {
        "id": "f3Y4q7zHPs5r"
      },
      "source": [
        "To define a sparse GP force field, we need to choose a descriptor $\\vec{d}(\\rho_i)$ of local atomic environments $\\rho_i$ and a kernel $k(\\vec{d}_1, \\vec{d}_2)$ for comparing these descriptors.\n",
        "\n",
        "We'll use the $B_2$ descriptor from the Atomic Cluster Expansion, which requires us to define:\n",
        "\n",
        "\n",
        "*   The cutoff function and radius.\n",
        "*   The type and number of radial basis functions.\n",
        "*   The number of spherical harmonics.\n",
        "\n",
        "These are hyperparameters of the model, and it's generally a good idea to check how different choices of hyperparameters influence model accuracy. Here we'll use values that work well for the MD17 dataset.\n"
      ]
    },
    {
      "cell_type": "code",
      "metadata": {
        "id": "hZPR2GaPQI6N"
      },
      "source": [
        "# Define many-body descriptor.\n",
        "cutoff = 3.7  # A\n",
        "n_species = 3  # Carbon, Oxygen, Hydrogen\n",
        "N = 12  # Number of radial basis functions\n",
        "lmax = 3  # Largest L included in spherical harmonics\n",
        "radial_basis = \"chebyshev\"  # Radial basis set\n",
        "cutoff_name = \"quadratic\"  # Cutoff function\n",
        "radial_hyps = [0, cutoff]\n",
        "cutoff_hyps = []\n",
        "descriptor_settings = [n_species, N, lmax]\n",
        "\n",
        "# Define a B2 object.\n",
        "B2 = flare_pp.B2(radial_basis, cutoff_name, radial_hyps, cutoff_hyps,\n",
        "                 descriptor_settings)\n",
        "\n",
        "# The GP class can take a list of descriptors as input, but here\n",
        "# we'll use a single descriptor.\n",
        "descriptors = [B2]"
      ],
      "execution_count": null,
      "outputs": []
    },
    {
      "cell_type": "markdown",
      "metadata": {
        "id": "8B4thTlLTp-K"
      },
      "source": [
        "Next, we define our kernel function. We'll use a simple normalized dot product kernel:\n",
        "\\begin{equation}\n",
        "k(\\vec{d}_1, \\vec{d}_2) = \\sigma \\left(\\frac{\\vec{d}_1 \\cdot \\vec{d}_2}{d_1 d_2}\\right)^2.\n",
        "\\end{equation}"
      ]
    },
    {
      "cell_type": "code",
      "metadata": {
        "id": "D1HHfx-MQ7Ah"
      },
      "source": [
        "# Define kernel function.\n",
        "sigma = 2.0\n",
        "power = 2\n",
        "dot_product_kernel = flare_pp.NormalizedDotProduct(sigma, power)\n",
        "\n",
        "# Define a list of kernels.\n",
        "# There needs to be one kernel for each descriptor.\n",
        "kernels = [dot_product_kernel]"
      ],
      "execution_count": null,
      "outputs": []
    },
    {
      "cell_type": "markdown",
      "metadata": {
        "id": "LYQfsSltUdXf"
      },
      "source": [
        "With the kernel object defined, we can construct a sparse GP object. To do this, we need to choose noise values for each type of label: energies, forces, and stresses (though in this example we'll train on forces only). It's a good idea to initialize these values to the expected error level for each quantity."
      ]
    },
    {
      "cell_type": "code",
      "metadata": {
        "id": "-Xq57UgpQ6aR"
      },
      "source": [
        "# Define sparse GP.\n",
        "sigma_e = 0.12 * noa  # Energy noise (in kcal/mol, so about 5 meV/atom)\n",
        "sigma_f = 0.115  # Force noise (in kcal/mol/A, so about 5 meV/A)\n",
        "sigma_s = 0.014  # Stress noise (in kcal/A^3, so about 0.1 GPa)\n",
        "gp_model = flare_pp.SparseGP(kernels, sigma_e, sigma_f, sigma_s)"
      ],
      "execution_count": null,
      "outputs": []
    },
    {
      "cell_type": "markdown",
      "metadata": {
        "id": "WM77DHCJWGMc"
      },
      "source": [
        "We now compute the descriptors and descriptor gradients of the training and validation structures and assign force labels to the training structures."
      ]
    },
    {
      "cell_type": "code",
      "metadata": {
        "id": "2rSeoZ34Q9sE"
      },
      "source": [
        "# Calculate descriptors of the validation and training structures.\n",
        "print(\"Computing descriptors of validation points...\")\n",
        "validation_strucs = []\n",
        "validation_forces = np.zeros((validation_size, noa, 3))\n",
        "for n, snapshot in enumerate(validation_pts):\n",
        "    pos = positions[snapshot]\n",
        "    frcs = forces[snapshot]\n",
        "\n",
        "    # Create structure object, which computes and stores descriptors.\n",
        "    struc = \\\n",
        "        flare_pp.Structure(cell, coded_species, pos, cutoff, descriptors)\n",
        "    validation_strucs.append(struc)\n",
        "    validation_forces[n] = frcs\n",
        "print(\"Done.\")\n",
        "\n",
        "print(\"Computing descriptors of training points...\")\n",
        "training_strucs = []\n",
        "training_forces = np.zeros((training_size, noa, 3))\n",
        "for n, snapshot in enumerate(training_pts):\n",
        "    pos = positions[snapshot]\n",
        "    frcs = forces[snapshot]\n",
        "\n",
        "    # Create structure object, which computes and stores descriptors.\n",
        "    struc = \\\n",
        "        flare_pp.Structure(cell, coded_species, pos, cutoff, descriptors)\n",
        "    \n",
        "    # Assign force labels to the training structure.\n",
        "    struc.forces = frcs.reshape(-1)\n",
        "\n",
        "    training_strucs.append(struc)\n",
        "    training_forces[n] = frcs\n",
        "print(\"Done.\")"
      ],
      "execution_count": null,
      "outputs": []
    },
    {
      "cell_type": "markdown",
      "metadata": {
        "id": "35Wzk0phW_8i"
      },
      "source": [
        "Finally, we train the sparse GP and check its performance on the validation set as more data is added. When we add structures to the GP, we need to choose which environments get added to the sparse set. For simplicity, in this example, we'll add all environments to the sparse set (which is theoretically accuracy-maximizing but may introduce redundancy). In our second example below, we'll use the GP uncertainties to select the sparse environments in an online fashion during molecular dynamics."
      ]
    },
    {
      "cell_type": "code",
      "metadata": {
        "id": "jXChH5iT1XHO"
      },
      "source": [
        "# Train the model.\n",
        "print(\"Training the GP...\") \n",
        "batch_size = 10  # monitor the MAE after adding this many frames\n",
        "n_strucs = np.zeros(batch_size)\n",
        "mb_maes = np.zeros(batch_size)\n",
        "for m in range(training_size):\n",
        "  train_struc = training_strucs[m]\n",
        "\n",
        "  # Add training structure and sparse environments.\n",
        "  gp_model.add_training_structure(train_struc)\n",
        "  gp_model.add_all_environments(train_struc)\n",
        "\n",
        "  if (m + 1) % batch_size == 0:\n",
        "    # Update the sparse GP training coefficients.\n",
        "    gp_model.update_matrices_QR()\n",
        "\n",
        "    # Predict on the validation set.\n",
        "    pred_forces = np.zeros((validation_size, noa, 3))\n",
        "    for n, test_struc in enumerate(validation_strucs):\n",
        "      gp_model.predict_SOR(test_struc)\n",
        "      pred_vals = test_struc.mean_efs[1:-6].reshape(noa, 3)\n",
        "      pred_forces[n] = pred_vals\n",
        "    \n",
        "    # Calculate and store the MAE.\n",
        "    batch_no = int((m + 1) / batch_size)\n",
        "    mae = np.mean(np.abs(validation_forces - pred_forces))\n",
        "    n_strucs[batch_no - 1] = batch_size * batch_no\n",
        "    mb_maes[batch_no - 1] = mae\n",
        "    print(\"Batch %i MAE: %.2f kcal/mol/A\" % (batch_no, mae))"
      ],
      "execution_count": null,
      "outputs": []
    },
    {
      "cell_type": "code",
      "metadata": {
        "id": "6pCHm60r6esr"
      },
      "source": [
        "# Plot the learning curve.\n",
        "plt.figure(figsize=(16, 8))\n",
        "plt.loglog(n_strucs, mb_maes, label=\"flare++\")\n",
        "plt.loglog(1000, 0.0429 * 23, 'g.', markersize=20, label=\"GDML\")\n",
        "plt.loglog(1000, 0.0295 * 23, 'r.', markersize=20, label=\"sGDML\")\n",
        "plt.title(\"Learning curve\")\n",
        "plt.xlabel(\"Number of training structures\")\n",
        "plt.ylabel(\"MAE (kcal/mol/A)\")\n",
        "plt.legend()\n",
        "plt.show()"
      ],
      "execution_count": null,
      "outputs": []
    },
    {
      "cell_type": "markdown",
      "metadata": {
        "id": "olHzB7TBOa2a"
      },
      "source": [
        "## Learning a many-body force field on the fly"
      ]
    },
    {
      "cell_type": "markdown",
      "metadata": {
        "id": "G1o53mABh1px"
      },
      "source": [
        "We're now ready to train a force field on the fly. In real applications, you would want to use a DFT code or some other quantum solver to compute reference energies and forces, but here for simplicity our goal will be to re-construct a many-body EAM potential on the fly."
      ]
    },
    {
      "cell_type": "code",
      "metadata": {
        "id": "FYE3ByIqOb2t"
      },
      "source": [
        "# Download an aluminum EAM potential from the NIST potential database.\n",
        "! wget https://www.ctcms.nist.gov/potentials/Download/1999--Mishin-Y-Farkas-D-Mehl-M-J-Papaconstantopoulos-D-A--Al/2/Al99.eam.alloy"
      ],
      "execution_count": null,
      "outputs": []
    },
    {
      "cell_type": "code",
      "metadata": {
        "id": "p-OknPGwZIpg"
      },
      "source": [
        "# Define modified EAM calculator with null stress.\n",
        "from ase.calculators.calculator import all_changes\n",
        "class EAM_mod(EAM):\n",
        "  implemented_properties = [\"energy\", \"forces\", \"stress\", \"stresses\"]\n",
        "  def calculate(self, atoms=None, properties=['energy'],\n",
        "                system_changes=all_changes):\n",
        "    super().calculate(atoms, properties, system_changes)\n",
        "    self.results['stress'] = np.zeros(6)\n",
        "    self.results['stresses'] = np.zeros(6)"
      ],
      "execution_count": null,
      "outputs": []
    },
    {
      "cell_type": "code",
      "metadata": {
        "id": "bYE1I-jOIeLE"
      },
      "source": [
        "# Define ASE calculator.\n",
        "eam_potential = EAM_mod(potential=\"Al99.eam.alloy\")"
      ],
      "execution_count": null,
      "outputs": []
    },
    {
      "cell_type": "markdown",
      "metadata": {
        "id": "4LiCqcVUiiiv"
      },
      "source": [
        "To train a sparse GP on the fly, we follow four basic steps."
      ]
    },
    {
      "cell_type": "markdown",
      "metadata": {
        "id": "tiejO1X5kFYP"
      },
      "source": [
        "### Step 1: Choose the initial structure."
      ]
    },
    {
      "cell_type": "markdown",
      "metadata": {
        "id": "oTe2dh0qkJkn"
      },
      "source": [
        "We'll simulate an adatom on an aluminum slab to illustrate what happens when one local environment doesn't resemble any of the others in the structure."
      ]
    },
    {
      "cell_type": "code",
      "metadata": {
        "id": "9WWUT134IwNJ"
      },
      "source": [
        "# Create a slab with an adatom.\n",
        "atoms = fcc111(\"Al\", (4, 4, 6), vacuum=10.0)\n",
        "add_adsorbate(atoms, \"Al\", 2.5, \"ontop\")\n",
        "n_atoms = len(atoms)\n",
        "\n",
        "# Randomly jitter the atoms to give nonzero forces in the first frame.\n",
        "jitter_factor = 0.1\n",
        "for atom_pos in atoms.positions:\n",
        "    for coord in range(3):\n",
        "        atom_pos[coord] += (2 * random() - 1) * jitter_factor\n",
        "\n",
        "view(atoms, viewer='x3d')"
      ],
      "execution_count": null,
      "outputs": []
    },
    {
      "cell_type": "markdown",
      "metadata": {
        "id": "XPoiwR6XkOpe"
      },
      "source": [
        "### Step 2: Choose molecular dynamics settings."
      ]
    },
    {
      "cell_type": "markdown",
      "metadata": {
        "id": "YLZQq0HpkSZH"
      },
      "source": [
        "We'll set the initial temperature to 200 K and simulate in the NVE ensemble. In many applications, it's useful to add thermostats and barostats to control temperature and pressure."
      ]
    },
    {
      "cell_type": "code",
      "metadata": {
        "id": "vUvIno5vL1Fs"
      },
      "source": [
        "# Set MD parameters.\n",
        "md_engine = \"VelocityVerlet\"\n",
        "md_dict = {}\n",
        "\n",
        "# Set the initial velocity to 200 K.\n",
        "temperature = 200  # in K\n",
        "MaxwellBoltzmannDistribution(atoms, temperature_K=temperature)\n",
        "Stationary(atoms)  # zero linear momentum\n",
        "ZeroRotation(atoms)  # zero angular momentum"
      ],
      "execution_count": null,
      "outputs": []
    },
    {
      "cell_type": "markdown",
      "metadata": {
        "id": "M7SwXSIWkwab"
      },
      "source": [
        "### Step 3: Choose model settings."
      ]
    },
    {
      "cell_type": "markdown",
      "metadata": {
        "id": "JtdzFMnarY--"
      },
      "source": [
        "In addition to the quantities we encountered earlier (cutoff, basis set, and noise values), we'll also choose the type of uncertainties we want to compute and choose settings for hyperparameter optimization."
      ]
    },
    {
      "cell_type": "code",
      "metadata": {
        "id": "fznM9hd1Ma7q"
      },
      "source": [
        "# Create sparse GP model.\n",
        "species_map = {13: 0}  # Aluminum (atomic number 13) is species 0\n",
        "cutoff = 5.0  # in A\n",
        "sigma = 2.0  # in eV\n",
        "power = 2  # power of the dot product kernel\n",
        "kernel = flare_pp.NormalizedDotProduct(sigma, power)\n",
        "cutoff_function = \"quadratic\"\n",
        "many_body_cutoffs = [cutoff]\n",
        "radial_basis = \"chebyshev\"\n",
        "radial_hyps = [0., cutoff]\n",
        "cutoff_hyps = []\n",
        "n_species = 1\n",
        "N = 8\n",
        "lmax = 3\n",
        "descriptor_settings = [n_species, N, lmax]\n",
        "descriptor_calculator = flare_pp.B2(\n",
        "  radial_basis,\n",
        "  cutoff_function,\n",
        "  radial_hyps,\n",
        "  cutoff_hyps,\n",
        "  descriptor_settings\n",
        ")\n",
        "\n",
        "# Set the noise values.\n",
        "sigma_e = 0.001 * n_atoms  # eV (1 meV/atom)\n",
        "sigma_f = 0.05  # eV/A\n",
        "sigma_s = 0.0006  # eV/A^3 (about 0.1 GPa)\n",
        "\n",
        "# Choose uncertainty type.\n",
        "# Other options are \"DTC\" (Deterministic Training Conditional) or\n",
        "# \"SOR\" (Subset of Regressors).\n",
        "variance_type = \"local\"  # Compute uncertainties on local energies (normalized)\n",
        "\n",
        "# Choose settings for hyperparameter optimization.\n",
        "max_iterations = 20  # Max number of BFGS iterations during optimization\n",
        "opt_method = \"L-BFGS-B\"  # Method used for hyperparameter optimization\n",
        "\n",
        "# Bounds for hyperparameter optimization.\n",
        "# Keeps the energy noise from going to zero.\n",
        "bounds = [(None, None), (sigma_e, None), (None, None), (None, None)]\n",
        "\n",
        "# Create a model wrapper that is compatible with the flare code.\n",
        "gp_model = SGP_Wrapper([kernel], [descriptor_calculator], cutoff,\n",
        "                    sigma_e, sigma_f, sigma_s, species_map,\n",
        "                    variance_type=variance_type,\n",
        "                    stress_training=False,\n",
        "                    opt_method=opt_method,\n",
        "                    bounds=bounds,\n",
        "                    max_iterations=max_iterations)\n",
        "\n",
        "# Create an ASE calculator based on the GP model.\n",
        "flare_calculator = SGP_Calculator(gp_model)"
      ],
      "execution_count": null,
      "outputs": []
    },
    {
      "cell_type": "markdown",
      "metadata": {
        "id": "q1xLHeAtk9EE"
      },
      "source": [
        "### Step 4: Choose on-the-fly settings."
      ]
    },
    {
      "cell_type": "markdown",
      "metadata": {
        "id": "0tZj_tIOnVEB"
      },
      "source": [
        "There are two important choices to make here:\n",
        "  \n",
        "\n",
        "*   The uncertainty tolerance (defined as `std_tolerance_factor` below) determines when calls to DFT are made. Because we are computing normalized uncertainties on local energies, a reasonable value is around 1%. A higher value will trigger fewer DFT calls but may reduce the accuracy of the model, so in practice it's a good idea to try out a few different values. Note that a positive `std_tolerance_factor` defines the tolerance as a fraction of the noise parameter, while a negative value defines it in absolute terms.\n",
        "*   `update_style` specifies the strategy for adding sparse environments to the GP. Here we set it to the `threshold` style, which only adds sparse environments if their associated uncertainty is above the defined `update_threshold`. This helps eliminate redundancy from the sparse set.\n"
      ]
    },
    {
      "cell_type": "code",
      "metadata": {
        "id": "ANcujUeFN-QX"
      },
      "source": [
        "# Set up OTF object.\n",
        "init_atoms = list(range(n_atoms))  # Initial environments to include in the sparse set\n",
        "output_name = 'Al'  # Name of the output file\n",
        "std_tolerance_factor = -0.01  # Uncertainty tolerance for calling DFT\n",
        "freeze_hyps = 2  # Freeze hyperparameter optimization after this many DFT calls\n",
        "min_steps_with_model = 10  # Min number of steps between DFT calls\n",
        "update_style = \"threshold\"  # Strategy for adding sparse environments\n",
        "update_threshold = 0.005  # Threshold for determining which sparse environments to add\n",
        "\n",
        "otf_params = {'init_atoms': init_atoms, 'output_name': output_name,\n",
        "              'std_tolerance_factor': std_tolerance_factor,\n",
        "              'freeze_hyps': freeze_hyps,\n",
        "              'min_steps_with_model': min_steps_with_model,\n",
        "              'update_style': update_style,\n",
        "              'update_threshold': update_threshold}\n",
        "\n",
        "# Create OTF object.\n",
        "timestep = 1 * units.fs\n",
        "number_of_steps = 500\n",
        "test_otf = ASE_OTF(\n",
        "    atoms, timestep=timestep, number_of_steps=number_of_steps,\n",
        "    dft_calc=eam_potential, md_engine=md_engine, md_kwargs=md_dict,\n",
        "    calculator=flare_calculator, **otf_params)\n",
        "\n",
        "# Run on-the-fly dynamics.\n",
        "test_otf.run()"
      ],
      "execution_count": null,
      "outputs": []
    },
    {
      "cell_type": "markdown",
      "metadata": {
        "id": "OMZQMZnfnEUT"
      },
      "source": [
        "### Analyzing the simulation"
      ]
    },
    {
      "cell_type": "code",
      "metadata": {
        "id": "SFfB194Fm4wC"
      },
      "source": [
        "# Parse the output file.\n",
        "output_file = 'Al.out'\n",
        "otf_trajectory = otf_parser.OtfAnalysis(output_file)"
      ],
      "execution_count": null,
      "outputs": []
    },
    {
      "cell_type": "code",
      "metadata": {
        "id": "ylo3udVOrLYV"
      },
      "source": [
        "# Plot temperature and energy vs. simulation time.\n",
        "times = otf_trajectory.times\n",
        "eam_times = otf_trajectory.dft_times\n",
        "\n",
        "temps = otf_trajectory.thermostat['temperature']\n",
        "eam_temps = otf_trajectory.gp_thermostat['temperature']\n",
        "\n",
        "gp_energies = otf_trajectory.thermostat['potential energy']\n",
        "eam_energies = otf_trajectory.gp_thermostat['potential energy']\n",
        "\n",
        "plt.plot(times, temps)\n",
        "plt.plot(eam_times, eam_temps, 'kx')\n",
        "plt.xlabel('Time (ps)')\n",
        "plt.ylabel('Temperature (K)')\n",
        "plt.show()\n",
        "\n",
        "plt.plot(times, gp_energies)\n",
        "plt.plot(eam_times, eam_energies, 'kx')\n",
        "plt.xlabel(\"Time (ps)\")\n",
        "plt.ylabel(\"Potential energy (eV)\")\n",
        "plt.show()"
      ],
      "execution_count": null,
      "outputs": []
    },
    {
      "cell_type": "code",
      "metadata": {
        "id": "q9OSP9gfwkyK"
      },
      "source": [
        "# Write xyz file to visualize the simulation.\n",
        "position_list = np.array(otf_trajectory.position_list)\n",
        "cells = np.array(otf_trajectory.cell_list)\n",
        "uncertainties = np.array(otf_trajectory.uncertainty_list)\n",
        "\n",
        "# Create list of atoms objects.\n",
        "atom_list = []\n",
        "spec = otf_trajectory.gp_species_list[0]\n",
        "skip = 1\n",
        "for n in np.arange(0, len(position_list), skip):\n",
        "    atoms_curr = Atoms(\n",
        "        spec,\n",
        "        positions=position_list[n],\n",
        "        cell=cells[n],\n",
        "        momenta=uncertainties[n],\n",
        "        pbc=True)\n",
        "    atom_list.append(atoms_curr)\n",
        "\n",
        "# Dump atoms.\n",
        "write('Al.xyz', atom_list, format='extxyz')"
      ],
      "execution_count": null,
      "outputs": []
    },
    {
      "cell_type": "markdown",
      "metadata": {
        "id": "Jq5Zv38z7TzK"
      },
      "source": [
        "<img src=\"https://github.com/mir-group/APS-2020-FLARE-Tutorial/blob/master/Tutorial_Images/al.gif?raw=true\" width=\"100%\">"
      ]
    },
    {
      "cell_type": "markdown",
      "metadata": {
        "id": "zYFCj-838Yyl"
      },
      "source": [
        "<img src=\"https://github.com/mir-group/APS-2020-FLARE-Tutorial/blob/master/Tutorial_Images/conclusion3.png?raw=true\" width=\"100%\">"
      ]
    },
    {
      "cell_type": "code",
      "metadata": {
        "id": "q6LFKiO3LUi3"
      },
      "source": [
        ""
      ],
      "execution_count": null,
      "outputs": []
    }
  ]
}